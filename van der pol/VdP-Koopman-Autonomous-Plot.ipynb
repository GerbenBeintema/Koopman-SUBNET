{
 "cells": [
  {
   "cell_type": "code",
   "execution_count": 1,
   "id": "registered-quest",
   "metadata": {},
   "outputs": [],
   "source": [
    "import numpy as np\n",
    "import matplotlib.pyplot as plt\n",
    "from matplotlib.lines import Line2D\n",
    "import deepSI\n",
    "import ipywidgets as widgets\n",
    "from scipy.io import loadmat # to load .mat data\n",
    "from torch import nn\n",
    "import torch\n",
    "\n",
    "# %matplotlib widget"
   ]
  },
  {
   "cell_type": "code",
   "execution_count": 2,
   "id": "stone-editor",
   "metadata": {},
   "outputs": [
    {
     "ename": "FileNotFoundError",
     "evalue": "[Errno 2] No such file or directory: 'VdP_Autonomous_noiseless_20Hz.mat'",
     "output_type": "error",
     "traceback": [
      "\u001b[1;31m---------------------------------------------------------------------------\u001b[0m",
      "\u001b[1;31mFileNotFoundError\u001b[0m                         Traceback (most recent call last)",
      "File \u001b[1;32mD:\\Programs\\anaconda3\\envs\\koopman\\lib\\site-packages\\scipy\\io\\matlab\\_mio.py:39\u001b[0m, in \u001b[0;36m_open_file\u001b[1;34m(file_like, appendmat, mode)\u001b[0m\n\u001b[0;32m     38\u001b[0m \u001b[38;5;28;01mtry\u001b[39;00m:\n\u001b[1;32m---> 39\u001b[0m     \u001b[38;5;28;01mreturn\u001b[39;00m \u001b[38;5;28;43mopen\u001b[39;49m\u001b[43m(\u001b[49m\u001b[43mfile_like\u001b[49m\u001b[43m,\u001b[49m\u001b[43m \u001b[49m\u001b[43mmode\u001b[49m\u001b[43m)\u001b[49m, \u001b[38;5;28;01mTrue\u001b[39;00m\n\u001b[0;32m     40\u001b[0m \u001b[38;5;28;01mexcept\u001b[39;00m \u001b[38;5;167;01mOSError\u001b[39;00m \u001b[38;5;28;01mas\u001b[39;00m e:\n\u001b[0;32m     41\u001b[0m     \u001b[38;5;66;03m# Probably \"not found\"\u001b[39;00m\n",
      "\u001b[1;31mFileNotFoundError\u001b[0m: [Errno 2] No such file or directory: 'VdP_Autonomous_noiseless_20Hz.mat'",
      "\nDuring handling of the above exception, another exception occurred:\n",
      "\u001b[1;31mFileNotFoundError\u001b[0m                         Traceback (most recent call last)",
      "Cell \u001b[1;32mIn[2], line 6\u001b[0m\n\u001b[0;32m      4\u001b[0m dataValMat \u001b[38;5;241m=\u001b[39m loadmat(\u001b[38;5;124m'\u001b[39m\u001b[38;5;124mVdP_Autonomous_noisy_20Hz.mat\u001b[39m\u001b[38;5;124m'\u001b[39m)[\u001b[38;5;124m'\u001b[39m\u001b[38;5;124mdataVal\u001b[39m\u001b[38;5;124m'\u001b[39m]\n\u001b[0;32m      5\u001b[0m dataTestMat \u001b[38;5;241m=\u001b[39m loadmat(\u001b[38;5;124m'\u001b[39m\u001b[38;5;124mVdP_Autonomous_noisy_20Hz.mat\u001b[39m\u001b[38;5;124m'\u001b[39m)[\u001b[38;5;124m'\u001b[39m\u001b[38;5;124mdataTest\u001b[39m\u001b[38;5;124m'\u001b[39m] \u001b[38;5;66;03m# noiseless\u001b[39;00m\n\u001b[1;32m----> 6\u001b[0m dataTestNoiselessMat \u001b[38;5;241m=\u001b[39m \u001b[43mloadmat\u001b[49m\u001b[43m(\u001b[49m\u001b[38;5;124;43m'\u001b[39;49m\u001b[38;5;124;43mVdP_Autonomous_noiseless_20Hz.mat\u001b[39;49m\u001b[38;5;124;43m'\u001b[39;49m\u001b[43m)\u001b[49m[\u001b[38;5;124m'\u001b[39m\u001b[38;5;124mdataTest\u001b[39m\u001b[38;5;124m'\u001b[39m]\n",
      "File \u001b[1;32mD:\\Programs\\anaconda3\\envs\\koopman\\lib\\site-packages\\scipy\\io\\matlab\\_mio.py:225\u001b[0m, in \u001b[0;36mloadmat\u001b[1;34m(file_name, mdict, appendmat, **kwargs)\u001b[0m\n\u001b[0;32m     88\u001b[0m \u001b[38;5;250m\u001b[39m\u001b[38;5;124;03m\"\"\"\u001b[39;00m\n\u001b[0;32m     89\u001b[0m \u001b[38;5;124;03mLoad MATLAB file.\u001b[39;00m\n\u001b[0;32m     90\u001b[0m \n\u001b[1;32m   (...)\u001b[0m\n\u001b[0;32m    222\u001b[0m \u001b[38;5;124;03m    3.14159265+3.14159265j])\u001b[39;00m\n\u001b[0;32m    223\u001b[0m \u001b[38;5;124;03m\"\"\"\u001b[39;00m\n\u001b[0;32m    224\u001b[0m variable_names \u001b[38;5;241m=\u001b[39m kwargs\u001b[38;5;241m.\u001b[39mpop(\u001b[38;5;124m'\u001b[39m\u001b[38;5;124mvariable_names\u001b[39m\u001b[38;5;124m'\u001b[39m, \u001b[38;5;28;01mNone\u001b[39;00m)\n\u001b[1;32m--> 225\u001b[0m \u001b[38;5;28;01mwith\u001b[39;00m _open_file_context(file_name, appendmat) \u001b[38;5;28;01mas\u001b[39;00m f:\n\u001b[0;32m    226\u001b[0m     MR, _ \u001b[38;5;241m=\u001b[39m mat_reader_factory(f, \u001b[38;5;241m*\u001b[39m\u001b[38;5;241m*\u001b[39mkwargs)\n\u001b[0;32m    227\u001b[0m     matfile_dict \u001b[38;5;241m=\u001b[39m MR\u001b[38;5;241m.\u001b[39mget_variables(variable_names)\n",
      "File \u001b[1;32mD:\\Programs\\anaconda3\\envs\\koopman\\lib\\contextlib.py:119\u001b[0m, in \u001b[0;36m_GeneratorContextManager.__enter__\u001b[1;34m(self)\u001b[0m\n\u001b[0;32m    117\u001b[0m \u001b[38;5;28;01mdel\u001b[39;00m \u001b[38;5;28mself\u001b[39m\u001b[38;5;241m.\u001b[39margs, \u001b[38;5;28mself\u001b[39m\u001b[38;5;241m.\u001b[39mkwds, \u001b[38;5;28mself\u001b[39m\u001b[38;5;241m.\u001b[39mfunc\n\u001b[0;32m    118\u001b[0m \u001b[38;5;28;01mtry\u001b[39;00m:\n\u001b[1;32m--> 119\u001b[0m     \u001b[38;5;28;01mreturn\u001b[39;00m \u001b[38;5;28;43mnext\u001b[39;49m\u001b[43m(\u001b[49m\u001b[38;5;28;43mself\u001b[39;49m\u001b[38;5;241;43m.\u001b[39;49m\u001b[43mgen\u001b[49m\u001b[43m)\u001b[49m\n\u001b[0;32m    120\u001b[0m \u001b[38;5;28;01mexcept\u001b[39;00m \u001b[38;5;167;01mStopIteration\u001b[39;00m:\n\u001b[0;32m    121\u001b[0m     \u001b[38;5;28;01mraise\u001b[39;00m \u001b[38;5;167;01mRuntimeError\u001b[39;00m(\u001b[38;5;124m\"\u001b[39m\u001b[38;5;124mgenerator didn\u001b[39m\u001b[38;5;124m'\u001b[39m\u001b[38;5;124mt yield\u001b[39m\u001b[38;5;124m\"\u001b[39m) \u001b[38;5;28;01mfrom\u001b[39;00m \u001b[38;5;28;01mNone\u001b[39;00m\n",
      "File \u001b[1;32mD:\\Programs\\anaconda3\\envs\\koopman\\lib\\site-packages\\scipy\\io\\matlab\\_mio.py:17\u001b[0m, in \u001b[0;36m_open_file_context\u001b[1;34m(file_like, appendmat, mode)\u001b[0m\n\u001b[0;32m     15\u001b[0m \u001b[38;5;129m@contextmanager\u001b[39m\n\u001b[0;32m     16\u001b[0m \u001b[38;5;28;01mdef\u001b[39;00m \u001b[38;5;21m_open_file_context\u001b[39m(file_like, appendmat, mode\u001b[38;5;241m=\u001b[39m\u001b[38;5;124m'\u001b[39m\u001b[38;5;124mrb\u001b[39m\u001b[38;5;124m'\u001b[39m):\n\u001b[1;32m---> 17\u001b[0m     f, opened \u001b[38;5;241m=\u001b[39m \u001b[43m_open_file\u001b[49m\u001b[43m(\u001b[49m\u001b[43mfile_like\u001b[49m\u001b[43m,\u001b[49m\u001b[43m \u001b[49m\u001b[43mappendmat\u001b[49m\u001b[43m,\u001b[49m\u001b[43m \u001b[49m\u001b[43mmode\u001b[49m\u001b[43m)\u001b[49m\n\u001b[0;32m     18\u001b[0m     \u001b[38;5;28;01mtry\u001b[39;00m:\n\u001b[0;32m     19\u001b[0m         \u001b[38;5;28;01myield\u001b[39;00m f\n",
      "File \u001b[1;32mD:\\Programs\\anaconda3\\envs\\koopman\\lib\\site-packages\\scipy\\io\\matlab\\_mio.py:45\u001b[0m, in \u001b[0;36m_open_file\u001b[1;34m(file_like, appendmat, mode)\u001b[0m\n\u001b[0;32m     43\u001b[0m     \u001b[38;5;28;01mif\u001b[39;00m appendmat \u001b[38;5;129;01mand\u001b[39;00m \u001b[38;5;129;01mnot\u001b[39;00m file_like\u001b[38;5;241m.\u001b[39mendswith(\u001b[38;5;124m'\u001b[39m\u001b[38;5;124m.mat\u001b[39m\u001b[38;5;124m'\u001b[39m):\n\u001b[0;32m     44\u001b[0m         file_like \u001b[38;5;241m+\u001b[39m\u001b[38;5;241m=\u001b[39m \u001b[38;5;124m'\u001b[39m\u001b[38;5;124m.mat\u001b[39m\u001b[38;5;124m'\u001b[39m\n\u001b[1;32m---> 45\u001b[0m     \u001b[38;5;28;01mreturn\u001b[39;00m \u001b[38;5;28;43mopen\u001b[39;49m\u001b[43m(\u001b[49m\u001b[43mfile_like\u001b[49m\u001b[43m,\u001b[49m\u001b[43m \u001b[49m\u001b[43mmode\u001b[49m\u001b[43m)\u001b[49m, \u001b[38;5;28;01mTrue\u001b[39;00m\n\u001b[0;32m     46\u001b[0m \u001b[38;5;28;01melse\u001b[39;00m:\n\u001b[0;32m     47\u001b[0m     \u001b[38;5;28;01mraise\u001b[39;00m \u001b[38;5;167;01mOSError\u001b[39;00m(\n\u001b[0;32m     48\u001b[0m         \u001b[38;5;124m'\u001b[39m\u001b[38;5;124mReader needs file name or open file-like object\u001b[39m\u001b[38;5;124m'\u001b[39m\n\u001b[0;32m     49\u001b[0m     ) \u001b[38;5;28;01mfrom\u001b[39;00m \u001b[38;5;21;01me\u001b[39;00m\n",
      "\u001b[1;31mFileNotFoundError\u001b[0m: [Errno 2] No such file or directory: 'VdP_Autonomous_noiseless_20Hz.mat'"
     ]
    }
   ],
   "source": [
    "# load data\n",
    "# load external data\n",
    "dataTrainMat = loadmat('VdP_Autonomous_noisy_20Hz.mat')['dataTrain']\n",
    "dataValMat = loadmat('VdP_Autonomous_noisy_20Hz.mat')['dataVal']\n",
    "dataTestMat = loadmat('VdP_Autonomous_noisy_20Hz.mat')['dataTest'] # noiseless\n",
    "dataTestNoiselessMat = loadmat('VdP_Autonomous_noiseless_20Hz.mat')['dataTest'] # noiseless\n",
    "\n"
   ]
  },
  {
   "cell_type": "code",
   "execution_count": 5,
   "id": "magnetic-memphis",
   "metadata": {},
   "outputs": [],
   "source": [
    "#  data variables\n",
    "nStates = 2 # number of system states\n",
    "nReal = 50 # number of realizations\n",
    "N = 501\n",
    "Ts = 1/20\n",
    "\n",
    "# model variables\n",
    "nx = 100 # number of states of model\n",
    "nb = 0 # input history for encoder\n",
    "na = 1 # output history for encoder\n",
    "nne = 100 # number of neurons per layer for encoder\n",
    "nle = 1 # number of layers encoder\n",
    "\n",
    "# optimization variables\n",
    "nf = 150 # length of truncated simulation"
   ]
  },
  {
   "cell_type": "code",
   "execution_count": 19,
   "id": "funny-employee",
   "metadata": {},
   "outputs": [
    {
     "ename": "NameError",
     "evalue": "name 'dataTestNoiselessMat' is not defined",
     "output_type": "error",
     "traceback": [
      "\u001b[1;31m---------------------------------------------------------------------------\u001b[0m",
      "\u001b[1;31mNameError\u001b[0m                                 Traceback (most recent call last)",
      "Cell \u001b[1;32mIn [19], line 26\u001b[0m\n\u001b[0;32m     24\u001b[0m testDataList \u001b[38;5;241m=\u001b[39m []\n\u001b[0;32m     25\u001b[0m \u001b[38;5;28;01mfor\u001b[39;00m i \u001b[38;5;129;01min\u001b[39;00m \u001b[38;5;28mrange\u001b[39m(nReal\u001b[38;5;241m-\u001b[39m\u001b[38;5;241m10\u001b[39m,nReal): \u001b[38;5;66;03m# for i=1:nReal\u001b[39;00m\n\u001b[1;32m---> 26\u001b[0m     yTest \u001b[38;5;241m=\u001b[39m \u001b[43mdataTestNoiselessMat\u001b[49m[i][\u001b[38;5;241m0\u001b[39m][:][\u001b[38;5;241m0\u001b[39m:]\n\u001b[0;32m     27\u001b[0m     testDataTemp \u001b[38;5;241m=\u001b[39m deepSI\u001b[38;5;241m.\u001b[39mSystem_data(u\u001b[38;5;241m=\u001b[39mnp\u001b[38;5;241m.\u001b[39mzeros((\u001b[38;5;28mlen\u001b[39m(yTest\u001b[38;5;241m.\u001b[39mT),\u001b[38;5;241m0\u001b[39m)),y\u001b[38;5;241m=\u001b[39mnp\u001b[38;5;241m.\u001b[39mtranspose(yTest)) \n\u001b[0;32m     28\u001b[0m     testDataList\u001b[38;5;241m.\u001b[39mappend(testDataTemp)\n",
      "\u001b[1;31mNameError\u001b[0m: name 'dataTestNoiselessMat' is not defined"
     ]
    }
   ],
   "source": [
    "# create training validation test data structures\n",
    "\n",
    "trainDataList = []\n",
    "for i in range(0,nReal): # for i=1:nReal\n",
    "    yTrain = dataTrainMat[i][0][:][0:]\n",
    "    trainDataTemp = deepSI.System_data(u=np.zeros((len(yTrain.T),0)),y=np.transpose(yTrain)) \n",
    "    trainDataList.append(trainDataTemp)\n",
    "    \n",
    "for i in range(0,nReal-20): # for i=1:nReal \n",
    "    yTrain = dataValMat[i][0][:][0:]\n",
    "    trainDataTemp = deepSI.System_data(u=np.zeros((len(yTrain.T),0)),y=np.transpose(yTrain)) \n",
    "    trainDataList.append(trainDataTemp)\n",
    "    \n",
    "trainData = deepSI.System_data_list(trainDataList)\n",
    "\n",
    "valDataList = []\n",
    "for i in range(nReal-20,nReal): # for i=1:nReal\n",
    "    yVal = dataValMat[i][0][:][0:]\n",
    "    valDataTemp = deepSI.System_data(u=np.zeros((len(yVal.T),0)),y=np.transpose(yVal)) \n",
    "    valDataList.append(valDataTemp)\n",
    "\n",
    "valData = deepSI.System_data_list(valDataList)\n",
    "\n",
    "testDataList = []\n",
    "for i in range(nReal-10,nReal): # for i=1:nReal\n",
    "    yTest = dataTestNoiselessMat[i][0][:][0:]\n",
    "    testDataTemp = deepSI.System_data(u=np.zeros((len(yTest.T),0)),y=np.transpose(yTest)) \n",
    "    testDataList.append(testDataTemp)\n",
    "\n",
    "testData = deepSI.System_data_list(testDataList)\n"
   ]
  },
  {
   "cell_type": "code",
   "execution_count": 16,
   "id": "looking-screen",
   "metadata": {},
   "outputs": [],
   "source": [
    "# init model structure\n",
    "from LinearStateOutputFunction import linear_state_net\n",
    "from LinearStateOutputFunction import linear_output_net\n",
    "mod_KoopmanEncoder = deepSI.fit_systems.SS_encoder_general(nx=nx, na=na, nb=nb, f_net=linear_state_net, h_net=linear_output_net,\n",
    "                                    e_net_kwargs={'n_nodes_per_layer':nne, 'n_hidden_layers':nle, 'activation':nn.Tanh}, \n",
    "                                    f_net_kwargs={'bias':False}, \n",
    "                                    h_net_kwargs={'bias':True})\n",
    "\n",
    "## load model\n",
    "mod_KoopmanEncoder = deepSI.systems.load_system('VdP_Koopman_Autonomous_100States_20Hz_nf150_noisy_v1.sav')\n",
    "mod_KoopmanEncoder._dt = None"
   ]
  },
  {
   "cell_type": "code",
   "execution_count": 21,
   "id": "e8e09bf9",
   "metadata": {},
   "outputs": [],
   "source": [
    "train_simulation_encoder = mod_KoopmanEncoder.apply_experiment(trainData)"
   ]
  },
  {
   "cell_type": "code",
   "execution_count": 8,
   "id": "processed-maple",
   "metadata": {},
   "outputs": [
    {
     "ename": "NameError",
     "evalue": "name 'testData' is not defined",
     "output_type": "error",
     "traceback": [
      "\u001b[1;31m---------------------------------------------------------------------------\u001b[0m",
      "\u001b[1;31mNameError\u001b[0m                                 Traceback (most recent call last)",
      "Cell \u001b[1;32mIn [8], line 4\u001b[0m\n\u001b[0;32m      1\u001b[0m \u001b[38;5;66;03m# validate &plot results\u001b[39;00m\n\u001b[0;32m      2\u001b[0m \u001b[38;5;66;03m# plot validation error evolution\u001b[39;00m\n\u001b[0;32m      3\u001b[0m \u001b[38;5;66;03m# validate & plot results\u001b[39;00m\n\u001b[1;32m----> 4\u001b[0m test_simulation_encoder \u001b[38;5;241m=\u001b[39m mod_KoopmanEncoder\u001b[38;5;241m.\u001b[39mapply_experiment(\u001b[43mtestData\u001b[49m)\n\u001b[0;32m      5\u001b[0m val_simulation_encoder \u001b[38;5;241m=\u001b[39m mod_KoopmanEncoder\u001b[38;5;241m.\u001b[39mapply_experiment(valData)\n\u001b[0;32m      6\u001b[0m train_simulation_encoder \u001b[38;5;241m=\u001b[39m mod_KoopmanEncoder\u001b[38;5;241m.\u001b[39mapply_experiment(trainData)\n",
      "\u001b[1;31mNameError\u001b[0m: name 'testData' is not defined"
     ]
    }
   ],
   "source": [
    "# validate &plot results\n",
    "# plot validation error evolution\n",
    "# validate & plot results\n",
    "test_simulation_encoder = mod_KoopmanEncoder.apply_experiment(testData)\n",
    "val_simulation_encoder = mod_KoopmanEncoder.apply_experiment(valData)\n",
    "train_simulation_encoder = mod_KoopmanEncoder.apply_experiment(trainData)"
   ]
  },
  {
   "cell_type": "code",
   "execution_count": 7,
   "id": "diverse-birmingham",
   "metadata": {},
   "outputs": [
    {
     "name": "stdout",
     "output_type": "stream",
     "text": [
      "  Encoder-Koopman Affine  Model\n",
      "NRMS Error\n",
      "Multisine Train: 0.22814372586351422\n",
      "Multisine Val: 0.2713464520308761\n",
      "Multisine Test: 0.123497385110894\n",
      " \n",
      "RMS Error\n",
      "Multisine Train: 0.32805866570772746\n",
      "Multisine Val: 0.3854975485797013\n",
      "Multisine Test: 0.18091435957700824\n"
     ]
    }
   ],
   "source": [
    "# display fit\n",
    "print('  Encoder-Koopman Affine  Model')\n",
    "print('NRMS Error')\n",
    "print('Multisine Train: ' + str(train_simulation_encoder.NRMS(trainData)))\n",
    "print('Multisine Val: ' + str(val_simulation_encoder.NRMS(valData)))\n",
    "print('Multisine Test: ' + str(test_simulation_encoder.NRMS(testData))) \n",
    "print(' ')\n",
    "print('RMS Error')\n",
    "print('Multisine Train: ' + str(train_simulation_encoder.RMS(trainData)))\n",
    "print('Multisine Val: ' + str(val_simulation_encoder.RMS(valData)))\n",
    "print('Multisine Test: ' + str(test_simulation_encoder.RMS(testData))) "
   ]
  },
  {
   "cell_type": "code",
   "execution_count": 8,
   "id": "upper-principle",
   "metadata": {},
   "outputs": [
    {
     "data": {
      "application/vnd.jupyter.widget-view+json": {
       "model_id": "6af75e78dba7411995ff32f29a8b739d",
       "version_major": 2,
       "version_minor": 0
      },
      "text/plain": [
       "Canvas(toolbar=Toolbar(toolitems=[('Home', 'Reset original view', 'home', 'home'), ('Back', 'Back to previous …"
      ]
     },
     "metadata": {},
     "output_type": "display_data"
    },
    {
     "data": {
      "application/vnd.jupyter.widget-view+json": {
       "model_id": "5c295a9399be413898a4d947c56f443a",
       "version_major": 2,
       "version_minor": 0
      },
      "text/plain": [
       "Canvas(toolbar=Toolbar(toolitems=[('Home', 'Reset original view', 'home', 'home'), ('Back', 'Back to previous …"
      ]
     },
     "metadata": {},
     "output_type": "display_data"
    },
    {
     "data": {
      "application/vnd.jupyter.widget-view+json": {
       "model_id": "edf40aae9fb64aa99c846b20abca03cb",
       "version_major": 2,
       "version_minor": 0
      },
      "text/plain": [
       "Canvas(toolbar=Toolbar(toolitems=[('Home', 'Reset original view', 'home', 'home'), ('Back', 'Back to previous …"
      ]
     },
     "metadata": {},
     "output_type": "display_data"
    },
    {
     "data": {
      "application/vnd.jupyter.widget-view+json": {
       "model_id": "040f9b5789384d96a4816a50ec45b9dd",
       "version_major": 2,
       "version_minor": 0
      },
      "text/plain": [
       "Canvas(toolbar=Toolbar(toolitems=[('Home', 'Reset original view', 'home', 'home'), ('Back', 'Back to previous …"
      ]
     },
     "metadata": {},
     "output_type": "display_data"
    }
   ],
   "source": [
    "# plots\n",
    "valIndex = 0\n",
    "testIndex = 0\n",
    "time = np.arange(0, N*Ts, Ts)\n",
    "\n",
    "plt.figure(facecolor='w', edgecolor='k')\n",
    "plt.title('Time-domain validation (noisy)')\n",
    "plt.plot(time,valData[valIndex].y)\n",
    "plt.plot(time,val_simulation_encoder[valIndex].y,'--')\n",
    "plt.plot(time,valData[valIndex].y-val_simulation_encoder[valIndex].y,'.')\n",
    "plt.ylabel('states'); plt.xlabel('time (s)'); \n",
    "plt.legend(['measured: $x_1$','measured: $x_2$', 'modeled: $x_1$','modeled: $x_2$', 'residual: $x_1$','residual: $x_2$'])\n",
    "plt.show()\n",
    "\n",
    "plt.figure(facecolor='w', edgecolor='k')\n",
    "plt.title('Time-domain test (noiseless)')\n",
    "plt.plot(time,testData[testIndex].y)\n",
    "plt.plot(time,test_simulation_encoder[testIndex].y,'--')\n",
    "plt.plot(time,testData[testIndex].y-test_simulation_encoder[testIndex].y,'.')\n",
    "plt.ylabel('states'); plt.xlabel('time (s)'); \n",
    "plt.legend(['measured: $x_1$','measured: $x_2$', 'modeled: $x_1$','modeled: $x_2$', 'residual: $x_1$','residual: $x_2$'])\n",
    "plt.show()\n",
    "\n",
    "plt.figure(facecolor='w', edgecolor='k')\n",
    "plt.title('Phase portrait: noisy validation')\n",
    "plt.ylabel('$x_1$'); plt.xlabel('$x_2$');\n",
    "for v in valData:\n",
    "    plt.plot(v.y[:,0],v.y[:,1],'b-')   \n",
    "for vi in val_simulation_encoder:\n",
    "    plt.plot(vi.y[:,0],vi.y[:,1],'r--')\n",
    "legend_elements = [Line2D([0], [0], color='b', lw=3, label='measured data'),\n",
    "                   Line2D([0], [0], color='r', lw=3, label='simulated model')]\n",
    "plt.legend(handles=legend_elements)\n",
    "plt.show()\n",
    "\n",
    "plt.figure(facecolor='w', edgecolor='k')\n",
    "plt.title('Phase portrait: noiseless test')\n",
    "plt.ylabel('$x_1$'); plt.xlabel('$x_2$');\n",
    "for v in testData:\n",
    "    plt.plot(v.y[:,0],v.y[:,1],'b-')   \n",
    "for vi in test_simulation_encoder:\n",
    "    plt.plot(vi.y[:,0],vi.y[:,1],'r--')\n",
    "legend_elements = [Line2D([0], [0], color='b', lw=3, label='measured data'),\n",
    "                   Line2D([0], [0], color='r', lw=3, label='simulated model')]\n",
    "plt.legend(handles=legend_elements)\n",
    "plt.show()\n"
   ]
  },
  {
   "cell_type": "code",
   "execution_count": 13,
   "id": "heated-infection",
   "metadata": {},
   "outputs": [
    {
     "data": {
      "application/vnd.jupyter.widget-view+json": {
       "model_id": "0d4a4509f5144c87bfb27888ec2492ab",
       "version_major": 2,
       "version_minor": 0
      },
      "text/plain": [
       "Canvas(toolbar=Toolbar(toolitems=[('Home', 'Reset original view', 'home', 'home'), ('Back', 'Back to previous …"
      ]
     },
     "metadata": {},
     "output_type": "display_data"
    }
   ],
   "source": [
    "# plot training, validation error evolution\n",
    "plt.figure(facecolor='w', edgecolor='k')\n",
    "plt.title('Training and validation cost')\n",
    "plt.semilogy(np.sqrt(mod_KoopmanEncoder.Loss_train[:-1]))\n",
    "plt.semilogy(mod_KoopmanEncoder.Loss_val[:-1])\n",
    "plt.xlabel('optimization step')\n",
    "plt.ylabel('cost')\n",
    "plt.legend(['training','validation'])\n",
    "plt.show()"
   ]
  },
  {
   "cell_type": "code",
   "execution_count": 9,
   "id": "protecting-alliance",
   "metadata": {},
   "outputs": [
    {
     "data": {
      "application/vnd.jupyter.widget-view+json": {
       "model_id": "7f296cfc168c4ec9a5422f0c1ee617e6",
       "version_major": 2,
       "version_minor": 0
      },
      "text/plain": [
       "Canvas(toolbar=Toolbar(toolitems=[('Home', 'Reset original view', 'home', 'home'), ('Back', 'Back to previous …"
      ]
     },
     "metadata": {},
     "output_type": "display_data"
    }
   ],
   "source": [
    "# plot n-step error\n",
    "plt.figure(facecolor='w', edgecolor='k')\n",
    "for k in range(0,5):\n",
    "    plt.plot(mod_KoopmanEncoder.n_step_error(testData[k],nf=200))\n",
    "    \n",
    "plt.ylim(0,None)\n",
    "plt.show()"
   ]
  },
  {
   "cell_type": "code",
   "execution_count": 10,
   "id": "decreased-imperial",
   "metadata": {},
   "outputs": [
    {
     "data": {
      "text/plain": [
       "System_data of length: 501 nu=0 ny=2 normed=False"
      ]
     },
     "execution_count": 10,
     "metadata": {},
     "output_type": "execute_result"
    }
   ],
   "source": [
    "testData[1]"
   ]
  },
  {
   "cell_type": "code",
   "execution_count": null,
   "id": "eleven-stereo",
   "metadata": {},
   "outputs": [],
   "source": []
  }
 ],
 "metadata": {
  "kernelspec": {
   "display_name": "Python 3 (ipykernel)",
   "language": "python",
   "name": "python3"
  },
  "language_info": {
   "codemirror_mode": {
    "name": "ipython",
    "version": 3
   },
   "file_extension": ".py",
   "mimetype": "text/x-python",
   "name": "python",
   "nbconvert_exporter": "python",
   "pygments_lexer": "ipython3",
   "version": "3.9.18"
  }
 },
 "nbformat": 4,
 "nbformat_minor": 5
}
