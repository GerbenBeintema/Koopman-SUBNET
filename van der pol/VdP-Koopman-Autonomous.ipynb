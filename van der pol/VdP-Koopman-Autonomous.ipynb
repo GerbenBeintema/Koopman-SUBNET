{
 "cells": [
  {
   "cell_type": "code",
   "execution_count": 1,
   "id": "registered-quest",
   "metadata": {},
   "outputs": [],
   "source": [
    "# import pandas as pd\n",
    "import numpy as np\n",
    "import matplotlib.pyplot as plt\n",
    "import deepSI\n",
    "import ipywidgets as widgets\n",
    "from scipy.io import loadmat # to load .mat data\n",
    "from torch import nn\n",
    "import torch\n",
    "\n",
    "%matplotlib widget\n"
   ]
  },
  {
   "cell_type": "code",
   "execution_count": 2,
   "id": "stone-editor",
   "metadata": {},
   "outputs": [],
   "source": [
    "# load data\n",
    "# load external data\n",
    "dataTrainMat = loadmat('VdP_Autonomous_noisy_20Hz.mat')['dataTrain']\n",
    "dataValMat = loadmat('VdP_Autonomous_noisy_20Hz.mat')['dataVal']\n",
    "dataTestMat = loadmat('VdP_Autonomous_noisy_20Hz.mat')['dataTest'] # noiseless\n",
    "dataTestNoiselessMat = loadmat('VdP_Autonomous_noiseless_20Hz.mat')['dataTest'] # noiseless\n",
    "\n",
    "nStates = 2 # number of system states\n",
    "nReal = 50 # number of realizations\n",
    "\n",
    "# structure: dataTrainMat[realizationIndex][0][stateIndex][timeIndex]\n",
    "\n"
   ]
  },
  {
   "cell_type": "code",
   "execution_count": 3,
   "id": "magnetic-memphis",
   "metadata": {},
   "outputs": [],
   "source": [
    "# some variables\n",
    "nf = 50 # length of truncated simulation\n",
    "nx = 100 # number of states of model\n",
    "nb = 0 # input history for encoder\n",
    "na = 1 # output history for encoder\n",
    "nne = 100 # number of neurons per layer for encoder\n",
    "nng = 40 # number of neurons per layer for affine input matrix function - if not linear\n",
    "nnf = 20 # number of neuros state function\n",
    "nnh = 20 # number of neurons per layer for output function - if not linear\n",
    "nle = 1 # number of layers encoder\n",
    "nlg = 1 # number of layers state transition function\n",
    "nlf = 1\n",
    "nlh = 1 # number of layers output function\n",
    "\n",
    "trainEpochs = 10000"
   ]
  },
  {
   "cell_type": "code",
   "execution_count": 4,
   "id": "funny-employee",
   "metadata": {},
   "outputs": [],
   "source": [
    "# create training validation test data structures\n",
    "\n",
    "# create deepSI data structure\n",
    "# trainData = deepSI.System_data(u=uTrain,y=yTrain)\n",
    "# valData = deepSI.System_data(u=uVal,y=yVal)\n",
    "# testData = deepSI.System_data(u=uTest,y=yTest)\n",
    "\n",
    "trainDataList = []\n",
    "for i in range(0,nReal): # for i=1:nReal\n",
    "    yTrain = dataTrainMat[i][0][:][0:]\n",
    "    trainDataTemp = deepSI.System_data(u=None,y=np.transpose(yTrain)) \n",
    "    trainDataList.append(trainDataTemp)\n",
    "    \n",
    "for i in range(0,nReal-20): # for i=1:nReal \n",
    "    yTrain = dataValMat[i][0][:][0:]\n",
    "    trainDataTemp = deepSI.System_data(u=None,y=np.transpose(yTrain)) \n",
    "    trainDataList.append(trainDataTemp)\n",
    "    \n",
    "# for i in range(0,nReal-10): # for i=1:nReal \n",
    "#     yTrain = dataTestMat[i][0][:][0:]\n",
    "#     trainDataTemp = deepSI.System_data(u=None,y=np.transpose(yTrain)) \n",
    "#     trainDataList.append(trainDataTemp)\n",
    "    \n",
    "trainData = deepSI.System_data_list(trainDataList)\n",
    "\n",
    "valDataList = []\n",
    "for i in range(nReal-20,nReal): # for i=1:nReal\n",
    "    yVal = dataValMat[i][0][:][0:]\n",
    "    valDataTemp = deepSI.System_data(u=None,y=np.transpose(yVal)) \n",
    "    valDataList.append(valDataTemp)\n",
    "\n",
    "valData = deepSI.System_data_list(valDataList)\n",
    "\n",
    "testDataList = []\n",
    "for i in range(nReal-10,nReal): # for i=1:nReal\n",
    "    yTest = dataTestNoiselessMat[i][0][:][0:]\n",
    "    testDataTemp = deepSI.System_data(u=None,y=np.transpose(yTest)) \n",
    "    testDataList.append(testDataTemp)\n",
    "\n",
    "testData = deepSI.System_data_list(testDataList)\n"
   ]
  },
  {
   "cell_type": "code",
   "execution_count": 14,
   "id": "likely-participation",
   "metadata": {},
   "outputs": [
    {
     "data": {
      "application/vnd.jupyter.widget-view+json": {
       "model_id": "61c4e0a2594e49e7bfc50ea0d2432056",
       "version_major": 2,
       "version_minor": 0
      },
      "text/plain": [
       "Canvas(toolbar=Toolbar(toolitems=[('Home', 'Reset original view', 'home', 'home'), ('Back', 'Back to previous …"
      ]
     },
     "metadata": {},
     "output_type": "display_data"
    },
    {
     "data": {
      "application/vnd.jupyter.widget-view+json": {
       "model_id": "7568cf6620364341aee1feaa3f53cda3",
       "version_major": 2,
       "version_minor": 0
      },
      "text/plain": [
       "Canvas(toolbar=Toolbar(toolitems=[('Home', 'Reset original view', 'home', 'home'), ('Back', 'Back to previous …"
      ]
     },
     "metadata": {},
     "output_type": "display_data"
    }
   ],
   "source": [
    "# plot data\n",
    "# plt.figure()\n",
    "# plt.plot(trainData.u)\n",
    "# plt.ylabel('u'); plt.xlabel('time'); plt.legend(['train input'])\n",
    "# plt.show()\n",
    "\n",
    "plt.figure()\n",
    "plt.plot(trainData.y)\n",
    "plt.ylabel('y'); plt.xlabel('time'); plt.legend(['train output'])\n",
    "plt.show()\n",
    "\n",
    "plt.figure()\n",
    "for t in trainData:\n",
    "    plt.plot(t.y[:,0],t.y[:,1],',')\n",
    "plt.show()\n",
    "                                        \n",
    "# plt.figure()\n",
    "# plt.plot(valData.u)\n",
    "# plt.ylabel('u'); plt.xlabel('time'); plt.legend(['validation input'])\n",
    "# plt.show()\n",
    "\n",
    "# plt.figure()\n",
    "# plt.plot(valData.y)\n",
    "# plt.ylabel('y'); plt.xlabel('time'); plt.legend(['validation output'])\n",
    "# plt.show()\n",
    "\n",
    "# plt.figure()\n",
    "# plt.plot(testArrowData.u)\n",
    "# plt.ylabel('u'); plt.xlabel('time'); plt.legend(['test input'])\n",
    "# plt.show()\n",
    "\n",
    "# plt.figure()\n",
    "# plt.plot(testData.y)\n",
    "# plt.ylabel('y'); plt.xlabel('time'); plt.legend(['test output'])\n",
    "# plt.show()"
   ]
  },
  {
   "cell_type": "code",
   "execution_count": 15,
   "id": "looking-screen",
   "metadata": {},
   "outputs": [],
   "source": [
    "# init model structure\n",
    "from LinearStateOutputFunction import linear_state_net\n",
    "from LinearStateOutputFunction import linear_output_net\n",
    "mod_KoopmanEncoder = deepSI.fit_systems.SS_encoder_general(nx=nx, na=na, nb=nb, f_net=linear_state_net, h_net=linear_output_net,\n",
    "                                    e_net_kwargs={'n_nodes_per_layer':nne, 'n_hidden_layers':nle, 'activation':nn.Tanh}, \n",
    "                                    f_net_kwargs={'bias':False}, \n",
    "                                    h_net_kwargs={'bias':True})\n",
    "\n",
    "\n",
    "# mod_KoopmanEncoder = deepSI.fit_systems.SS_encoder_general(nx=nx, na=na, nb=nb,\n",
    "#                                     e_net_kwargs={'n_nodes_per_layer':nne, 'n_hidden_layers':nle, 'activation':nn.Tanh}, \n",
    "#                                     f_net_kwargs={'n_nodes_per_layer':nnf, 'n_hidden_layers':nlf, 'activation':nn.Tanh}, \n",
    "#                                     h_net_kwargs={'n_nodes_per_layer':nnh, 'n_hidden_layers':nlh, 'activation':nn.Tanh})"
   ]
  },
  {
   "cell_type": "code",
   "execution_count": 43,
   "id": "invalid-pavilion",
   "metadata": {},
   "outputs": [
    {
     "name": "stdout",
     "output_type": "stream",
     "text": [
      "N_training_samples = 28080, batch_size = 256, N_batch_updates_per_epoch = 109\n"
     ]
    },
    {
     "data": {
      "application/vnd.jupyter.widget-view+json": {
       "model_id": "41eb67490245495cb6d93515cf1ba6a1",
       "version_major": 2,
       "version_minor": 0
      },
      "text/plain": [
       "  0%|          | 0/30000 [00:00<?, ?it/s]"
      ]
     },
     "metadata": {},
     "output_type": "display_data"
    },
    {
     "name": "stdout",
     "output_type": "stream",
     "text": [
      "Epoch    1, Train sqrt loss  0.1696, Val NRMS 0.2763, Time Loss: 33.1%, back: 39.5%,  4.0 vals/epoch, 5.86 batches/sec\n",
      "Epoch    2, Train sqrt loss  0.1696, Val NRMS 0.2824, Time Loss: 32.2%, back: 38.3%,  4.5 vals/epoch,  5.8 batches/sec\n",
      "Epoch    3, Train sqrt loss  0.1695, Val NRMS 0.2777, Time Loss: 31.4%, back: 37.2%, 4.67 vals/epoch, 5.88 batches/sec\n",
      "Epoch    4, Train sqrt loss  0.1696, Val NRMS 0.2851, Time Loss: 31.4%, back: 36.6%, 4.75 vals/epoch, 5.35 batches/sec\n",
      "Epoch    5, Train sqrt loss  0.1696, Val NRMS 0.2873, Time Loss: 31.8%, back: 36.7%,  5.0 vals/epoch, 4.85 batches/sec\n",
      "Epoch    6, Train sqrt loss  0.1695, Val NRMS 0.2805, Time Loss: 31.4%, back: 36.4%, 5.17 vals/epoch, 4.69 batches/sec\n",
      "Epoch    7, Train sqrt loss  0.1696, Val NRMS 0.2818, Time Loss: 31.7%, back: 36.6%, 5.14 vals/epoch, 4.69 batches/sec\n",
      "Epoch    8, Train sqrt loss  0.1695, Val NRMS 0.2859, Time Loss: 31.7%, back: 36.8%, 5.12 vals/epoch, 4.63 batches/sec\n",
      "Epoch    9, Train sqrt loss  0.1696, Val NRMS 0.2855, Time Loss: 31.5%, back: 36.6%, 5.22 vals/epoch, 4.64 batches/sec\n",
      "Epoch   10, Train sqrt loss  0.1696, Val NRMS 0.2797, Time Loss: 31.5%, back: 36.8%,  5.2 vals/epoch, 4.68 batches/sec\n",
      "Epoch   11, Train sqrt loss  0.1695, Val NRMS 0.2787, Time Loss: 31.3%, back: 36.9%, 5.27 vals/epoch, 4.61 batches/sec\n",
      "Epoch   12, Train sqrt loss  0.1696, Val NRMS  0.277, Time Loss: 31.4%, back: 37.0%, 5.25 vals/epoch, 4.56 batches/sec\n",
      "Epoch   13, Train sqrt loss  0.1696, Val NRMS 0.2766, Time Loss: 31.3%, back: 37.1%, 5.31 vals/epoch, 4.51 batches/sec\n",
      "Epoch   14, Train sqrt loss  0.1696, Val NRMS 0.2853, Time Loss: 31.3%, back: 37.2%, 5.29 vals/epoch, 4.51 batches/sec\n",
      "Epoch   15, Train sqrt loss  0.1696, Val NRMS  0.278, Time Loss: 31.2%, back: 37.2%, 5.33 vals/epoch, 4.48 batches/sec\n",
      "Epoch   16, Train sqrt loss  0.1695, Val NRMS 0.2795, Time Loss: 31.4%, back: 37.2%, 5.38 vals/epoch, 4.39 batches/sec\n",
      "Epoch   17, Train sqrt loss  0.1695, Val NRMS 0.2822, Time Loss: 31.4%, back: 37.2%, 5.41 vals/epoch, 4.37 batches/sec\n",
      "Epoch   18, Train sqrt loss  0.1695, Val NRMS 0.2769, Time Loss: 31.4%, back: 37.2%, 5.39 vals/epoch, 4.41 batches/sec\n",
      "Epoch   19, Train sqrt loss  0.1695, Val NRMS 0.2805, Time Loss: 31.4%, back: 37.2%, 5.37 vals/epoch, 4.46 batches/sec\n",
      "Epoch   20, Train sqrt loss  0.1696, Val NRMS 0.2806, Time Loss: 31.3%, back: 37.1%, 5.35 vals/epoch, 4.52 batches/sec\n",
      "Epoch   21, Train sqrt loss  0.1696, Val NRMS 0.2764, Time Loss: 31.4%, back: 37.2%, 5.33 vals/epoch, 4.55 batches/sec\n",
      "Epoch   22, Train sqrt loss  0.1696, Val NRMS 0.2808, Time Loss: 31.4%, back: 37.2%, 5.32 vals/epoch, 4.56 batches/sec\n",
      "Epoch   23, Train sqrt loss  0.1696, Val NRMS  0.275, Time Loss: 31.4%, back: 37.3%, 5.26 vals/epoch, 4.61 batches/sec\n",
      "Epoch   24, Train sqrt loss  0.1696, Val NRMS 0.2778, Time Loss: 31.4%, back: 37.2%, 5.25 vals/epoch, 4.65 batches/sec\n",
      "Epoch   25, Train sqrt loss  0.1696, Val NRMS 0.2797, Time Loss: 31.4%, back: 37.2%, 5.24 vals/epoch, 4.69 batches/sec\n",
      "Epoch   26, Train sqrt loss  0.1695, Val NRMS 0.2808, Time Loss: 31.4%, back: 37.2%, 5.23 vals/epoch, 4.74 batches/sec\n",
      "Epoch   27, Train sqrt loss  0.1695, Val NRMS 0.2788, Time Loss: 31.4%, back: 37.2%, 5.22 vals/epoch, 4.77 batches/sec\n",
      "Epoch   28, Train sqrt loss  0.1695, Val NRMS 0.2805, Time Loss: 31.4%, back: 37.2%, 5.21 vals/epoch, 4.77 batches/sec\n",
      "Epoch   29, Train sqrt loss  0.1695, Val NRMS  0.281, Time Loss: 31.4%, back: 37.2%, 5.17 vals/epoch,  4.8 batches/sec\n",
      "Epoch   30, Train sqrt loss  0.1696, Val NRMS 0.2846, Time Loss: 31.4%, back: 37.2%,  5.2 vals/epoch, 4.78 batches/sec\n",
      "Epoch   31, Train sqrt loss  0.1695, Val NRMS  0.283, Time Loss: 31.4%, back: 37.2%, 5.19 vals/epoch, 4.79 batches/sec\n",
      "Epoch   32, Train sqrt loss  0.1694, Val NRMS 0.2759, Time Loss: 31.4%, back: 37.2%, 5.19 vals/epoch,  4.8 batches/sec\n",
      "Epoch   33, Train sqrt loss  0.1695, Val NRMS 0.2789, Time Loss: 31.4%, back: 37.2%, 5.18 vals/epoch,  4.8 batches/sec\n",
      "Stopping early due to a KeyboardInterrupt\n",
      "Waiting for started validation process to finish and one last validation...recv done...Done!\n",
      "Loaded model with best known validation NRMS of 0.2713 which happened on epoch 0 (epoch_id=5204.55)\n"
     ]
    }
   ],
   "source": [
    "\n",
    "# estimate model using SS-Encoder method\n",
    "nf = 150\n",
    "lr = 0.0001\n",
    "beta1 = 0.7\n",
    "beta2 = 0.9\n",
    "trainEpochs = 30000\n",
    "\n",
    "\n",
    "# mod_KoopmanEncoder.bestfit = float('inf') # reset best validation result\n",
    "\n",
    "\n",
    "# mod_KoopmanEncoder.checkpoint_load_system('_last') #load last checkpoint\n",
    "# mod_KoopmanEncoder.optimizer.param_groups[0]['lr'] = lr\n",
    "\n",
    "\n",
    "mod_KoopmanEncoder.fit(trainData, epochs=trainEpochs, batch_size=256, loss_kwargs={'nf':nf,'dilation':1}, optimizer_kwargs={'lr':lr,'betas':(beta1, beta2)}, sim_val=valData, concurrent_val=True)\n",
    "# mod_KoopmanEncoder.fit(trainData, epochs=trainEpochs, batch_size=1024, loss_kwargs={'nf':nf,'dilation':1}, optimizer_kwargs=LBFGS_optimizer_kwargs, sim_val=valData, concurrent_val=True)\n",
    "# mod_KoopmanEncoder.checkpoint_load_system('_last') #load last checkpoint \n",
    "\n",
    "# gradually increase the truncated simulation length\n",
    "# lr = 0.0001\n",
    "# beta1 = 0.8\n",
    "# beta2 = 0.9\n",
    "# trainEpochs = 50\n",
    "# for nf in range(55,405,5):\n",
    "#     print('Fitting horizon: ' + str(nf))\n",
    "#     mod_KoopmanEncoder.fit(trainData, epochs=trainEpochs, batch_size=1024, loss_kwargs={'nf':nf,'dilation':1}, optimizer_kwargs={'lr':lr,'betas':(beta1, beta2)}, sim_val=valData, concurrent_val=True)\n",
    "#     mod_KoopmanEncoder.checkpoint_load_system('_last') #load last checkpoint \n",
    "\n"
   ]
  },
  {
   "cell_type": "code",
   "execution_count": 19,
   "id": "northern-tactics",
   "metadata": {
    "scrolled": true
   },
   "outputs": [
    {
     "data": {
      "text/plain": [
       "Adam (\n",
       "Parameter Group 0\n",
       "    amsgrad: False\n",
       "    betas: (0.7, 0.9)\n",
       "    eps: 1e-08\n",
       "    lr: 0.0001\n",
       "    weight_decay: 0\n",
       ")"
      ]
     },
     "execution_count": 19,
     "metadata": {},
     "output_type": "execute_result"
    }
   ],
   "source": [
    "mod_KoopmanEncoder.checkpoint_load_system('_last')\n",
    "mod_KoopmanEncoder.optimizer"
   ]
  },
  {
   "cell_type": "code",
   "execution_count": 38,
   "id": "decent-amino",
   "metadata": {},
   "outputs": [
    {
     "data": {
      "application/vnd.jupyter.widget-view+json": {
       "model_id": "cabe5c8759ff4b4598937649b2e00b31",
       "version_major": 2,
       "version_minor": 0
      },
      "text/plain": [
       "Canvas(toolbar=Toolbar(toolitems=[('Home', 'Reset original view', 'home', 'home'), ('Back', 'Back to previous …"
      ]
     },
     "metadata": {},
     "output_type": "display_data"
    }
   ],
   "source": [
    "mod_KoopmanEncoder.checkpoint_load_system(name='_last')\n",
    "\n",
    "# plot validation error evolution\n",
    "plt.figure(facecolor='w', edgecolor='k')\n",
    "plt.semilogy(np.sqrt(mod_KoopmanEncoder.Loss_train[:-1]))\n",
    "plt.semilogy(mod_KoopmanEncoder.Loss_val[:-1])\n",
    "\n",
    "plt.show()"
   ]
  },
  {
   "cell_type": "code",
   "execution_count": 41,
   "id": "processed-maple",
   "metadata": {},
   "outputs": [
    {
     "name": "stdout",
     "output_type": "stream",
     "text": [
      "  Encoder-Koopman Affine  Model\n",
      "NRMS Error\n",
      "Multisine Train: 0.22814372586351422\n",
      "Multisine Val: 0.2713464520308761\n",
      "Multisine Test: 0.123497385110894\n",
      " \n",
      "RMS Error\n",
      "Multisine Train: 0.32805866570772746\n",
      "Multisine Val: 0.3854975485797013\n",
      "Multisine Test: 0.18091435957700824\n"
     ]
    },
    {
     "data": {
      "application/vnd.jupyter.widget-view+json": {
       "model_id": "059c46d3d74c475d8cf7d76ed3e487fd",
       "version_major": 2,
       "version_minor": 0
      },
      "text/plain": [
       "Canvas(toolbar=Toolbar(toolitems=[('Home', 'Reset original view', 'home', 'home'), ('Back', 'Back to previous …"
      ]
     },
     "metadata": {},
     "output_type": "display_data"
    },
    {
     "data": {
      "application/vnd.jupyter.widget-view+json": {
       "model_id": "7dedf0cf1d13410cb2b5adf3aefe6c8a",
       "version_major": 2,
       "version_minor": 0
      },
      "text/plain": [
       "Canvas(toolbar=Toolbar(toolitems=[('Home', 'Reset original view', 'home', 'home'), ('Back', 'Back to previous …"
      ]
     },
     "metadata": {},
     "output_type": "display_data"
    },
    {
     "data": {
      "application/vnd.jupyter.widget-view+json": {
       "model_id": "106b57ead014436da14837b1ce0feded",
       "version_major": 2,
       "version_minor": 0
      },
      "text/plain": [
       "Canvas(toolbar=Toolbar(toolitems=[('Home', 'Reset original view', 'home', 'home'), ('Back', 'Back to previous …"
      ]
     },
     "metadata": {},
     "output_type": "display_data"
    },
    {
     "data": {
      "application/vnd.jupyter.widget-view+json": {
       "model_id": "ca6d2b27f9a946308c78f6bae19829c0",
       "version_major": 2,
       "version_minor": 0
      },
      "text/plain": [
       "Canvas(toolbar=Toolbar(toolitems=[('Home', 'Reset original view', 'home', 'home'), ('Back', 'Back to previous …"
      ]
     },
     "metadata": {},
     "output_type": "display_data"
    }
   ],
   "source": [
    "mod_KoopmanEncoder.checkpoint_load_system(name='_best')\n",
    "\n",
    "# validate &plot results\n",
    "# plot validation error evolution\n",
    "# validate & plot results\n",
    "test_simulation_encoder = mod_KoopmanEncoder.apply_experiment(testData)\n",
    "val_simulation_encoder = mod_KoopmanEncoder.apply_experiment(valData)\n",
    "train_simulation_encoder = mod_KoopmanEncoder.apply_experiment(trainData)\n",
    "\n",
    "# display\n",
    "print('  Encoder-Koopman Affine  Model')\n",
    "print('NRMS Error')\n",
    "print('Multisine Train: ' + str(train_simulation_encoder.NRMS(trainData)))\n",
    "print('Multisine Val: ' + str(val_simulation_encoder.NRMS(valData)))\n",
    "print('Multisine Test: ' + str(test_simulation_encoder.NRMS(testData))) \n",
    "print(' ')\n",
    "print('RMS Error')\n",
    "print('Multisine Train: ' + str(train_simulation_encoder.RMS(trainData)))\n",
    "print('Multisine Val: ' + str(val_simulation_encoder.RMS(valData)))\n",
    "print('Multisine Test: ' + str(test_simulation_encoder.RMS(testData))) \n",
    "\n",
    "plt.figure(facecolor='w', edgecolor='k')\n",
    "plt.plot(valData.y)\n",
    "plt.plot(val_simulation_encoder.y,'--')\n",
    "plt.plot(valData.y-val_simulation_encoder.y,'.')\n",
    "plt.ylabel('y'); plt.xlabel('x'); plt.legend(['test output', 'simulation error test encoder'])\n",
    "plt.show()\n",
    "\n",
    "plt.figure(facecolor='w', edgecolor='k')\n",
    "plt.plot(testData.y)\n",
    "plt.plot(test_simulation_encoder.y,'--')\n",
    "plt.plot(testData.y-test_simulation_encoder.y,'.')\n",
    "plt.ylabel('y'); plt.xlabel('x'); plt.legend(['test output', 'simulation error test encoder'])\n",
    "plt.show()\n",
    "\n",
    "plt.figure(facecolor='w', edgecolor='k')\n",
    "for v in valData:\n",
    "    plt.plot(v.y[:,0],v.y[:,1],'b-')\n",
    "    \n",
    "for vi in val_simulation_encoder:\n",
    "    plt.plot(vi.y[:,0],vi.y[:,1],'r--')\n",
    "    \n",
    "# for v,vi in zip(valData,val_simulation_encoder):\n",
    "#     plt.plot(v.y[:,0],v.y[:,1],'b-')\n",
    "#     plt.plot(vi.y[:,0],vi.y[:,1],'r--')\n",
    "plt.show()\n",
    "\n",
    "\n",
    "plt.figure(facecolor='w', edgecolor='k')\n",
    "for v in testData:\n",
    "    plt.plot(v.y[:,0],v.y[:,1],'b-')\n",
    "    \n",
    "for vi in test_simulation_encoder:\n",
    "    plt.plot(vi.y[:,0],vi.y[:,1],'r--')\n",
    "    \n",
    "# for v,vi in zip(valData,val_simulation_encoder):\n",
    "#     plt.plot(v.y[:,0],v.y[:,1],'b-')\n",
    "#     plt.plot(vi.y[:,0],vi.y[:,1],'r--')\n",
    "plt.show()"
   ]
  },
  {
   "cell_type": "code",
   "execution_count": 23,
   "id": "indoor-foundation",
   "metadata": {},
   "outputs": [
    {
     "data": {
      "application/vnd.jupyter.widget-view+json": {
       "model_id": "08db13e09ec64db993df8368f17831fe",
       "version_major": 2,
       "version_minor": 0
      },
      "text/plain": [
       "Canvas(toolbar=Toolbar(toolitems=[('Home', 'Reset original view', 'home', 'home'), ('Back', 'Back to previous …"
      ]
     },
     "metadata": {},
     "output_type": "display_data"
    },
    {
     "data": {
      "application/vnd.jupyter.widget-view+json": {
       "model_id": "726eec90857a4a80969ba01f33171790",
       "version_major": 2,
       "version_minor": 0
      },
      "text/plain": [
       "Canvas(toolbar=Toolbar(toolitems=[('Home', 'Reset original view', 'home', 'home'), ('Back', 'Back to previous …"
      ]
     },
     "metadata": {},
     "output_type": "display_data"
    }
   ],
   "source": [
    "cycleData = deepSI.System_data(u=None,y=np.ones((1000,2))) \n",
    "\n",
    "limitCycle_simulation_encoder = mod_KoopmanEncoder.apply_experiment(cycleData)\n",
    "\n",
    "plt.figure(facecolor='w', edgecolor='k')\n",
    "plt.plot(limitCycle_simulation_encoder.y[:,0],limitCycle_simulation_encoder.y[:,1],',')\n",
    "plt.show()\n",
    "\n",
    "\n",
    "plt.figure(facecolor='w', edgecolor='k')\n",
    "plt.plot(limitCycle_simulation_encoder.y)\n",
    "plt.show()"
   ]
  },
  {
   "cell_type": "code",
   "execution_count": 24,
   "id": "protecting-alliance",
   "metadata": {},
   "outputs": [
    {
     "data": {
      "application/vnd.jupyter.widget-view+json": {
       "model_id": "5dfaf7e7d9234f77bea300709392bba3",
       "version_major": 2,
       "version_minor": 0
      },
      "text/plain": [
       "Canvas(toolbar=Toolbar(toolitems=[('Home', 'Reset original view', 'home', 'home'), ('Back', 'Back to previous …"
      ]
     },
     "metadata": {},
     "output_type": "display_data"
    }
   ],
   "source": [
    "# plot n-step error\n",
    "\n",
    "plt.figure(facecolor='w', edgecolor='k')\n",
    "for k in range(0,5):\n",
    "    plt.plot(mod_KoopmanEncoder.n_step_error(testData[k],nf=400))\n",
    "    \n",
    "plt.ylim(0,None)\n",
    "plt.show()"
   ]
  },
  {
   "cell_type": "code",
   "execution_count": 42,
   "id": "fluid-campaign",
   "metadata": {},
   "outputs": [],
   "source": [
    "## save model\n",
    "mod_KoopmanEncoder.save_system('VdP_Koopman_Autonomous_100States_20Hz_nf150_noisy_v1.sav')\n",
    "\n",
    "## load model\n",
    "# mod_KoopmanEncoder = deepSI.systems.load_system('VdP_Koopman_Autonomous_100States_v2.sav')"
   ]
  },
  {
   "cell_type": "code",
   "execution_count": null,
   "id": "decreased-imperial",
   "metadata": {},
   "outputs": [],
   "source": []
  }
 ],
 "metadata": {
  "kernelspec": {
   "display_name": "Python 3",
   "language": "python",
   "name": "python3"
  },
  "language_info": {
   "codemirror_mode": {
    "name": "ipython",
    "version": 3
   },
   "file_extension": ".py",
   "mimetype": "text/x-python",
   "name": "python",
   "nbconvert_exporter": "python",
   "pygments_lexer": "ipython3",
   "version": "3.8.5"
  }
 },
 "nbformat": 4,
 "nbformat_minor": 5
}
